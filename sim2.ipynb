{
 "cells": [
  {
   "cell_type": "code",
   "execution_count": 2,
   "metadata": {},
   "outputs": [],
   "source": [
    "import numpy as np\n",
    "import scipy as sp\n",
    "from scipy.integrate import odeint \n",
    "import matplotlib.pyplot as plt"
   ]
  },
  {
   "cell_type": "code",
   "execution_count": 30,
   "metadata": {},
   "outputs": [],
   "source": [
    "def sigma(t):\n",
    "    return 1/(1 + np.exp(t))\n",
    "\n",
    "travel_cutoff = 20\n",
    "bats_cutoff = 20\n",
    "z_func = lambda t: 86*sigma(2*(t-bats_cutoff))\n",
    "L_cutoff_func = lambda t: sigma(2*(t-travel_cutoff))\n",
    "\n",
    "def L(t):\n",
    "    L = np.zeros((M, M))\n",
    "    L[0, 1] = 10000\n",
    "    L[1, 2] = 10000\n",
    "    L[2, 0] = 10000\n",
    "    # L[0, 1] = 3244\n",
    "    # L[0, 2] = 17119\n",
    "    L[0, :] *= L_cutoff_func(t)\n",
    "    L[:, 0] *= L_cutoff_func(t)\n",
    "    return L\n",
    "\n"
   ]
  },
  {
   "cell_type": "code",
   "execution_count": 40,
   "metadata": {},
   "outputs": [],
   "source": [
    "def model(z_flat, t):\n",
    "    z = np.reshape(z_flat, newshape = (6, M))\n",
    "    s, eQ, eN, iQ, iN, r = [z[0, :], z[1, :], z[2, :], z[3, :], z[4, :], z[5, :]]\n",
    "    n = np.sum(z, axis = 0)\n",
    "    R0 = g_params['R0'] # Reproduction number R0 (same for all populations)\n",
    "    De = g_params['De'] # Duration of exposure period\n",
    "    Di = g_params['Di'] # Duration of infection\n",
    "    alpha = g_params['alpha'] # indicator for Wuhan\n",
    "    psi = g_params['psi'] # Fear level, 0 (none) < psi < 1 (max)\n",
    "    phi = g_params['phi'] # Prob[infected individual able to travel]\n",
    "    h = g_params['h'] # Infection rate in hospital, 0 < h < 1\n",
    "    gamma = g_params['gamma'] # Prob[exposed individual is quarantined]\n",
    "    Gamma = g_params['Gamma'] # \n",
    "    beta = g_params['beta'] # Prob[exposed individual is quarantined upon entry]\n",
    "    tau = g_params['tau'] # Prob[infected individual is quarantined upon entry]\n",
    "    \n",
    "    ds = -s/n*(1-psi)*(R0/Di*iN + alpha*z_func(t) + h*R0/Di*iQ) + (np.matmul(np.transpose(L(t)), s/n) - s/n*np.matmul(L(t), np.ones(M)))\n",
    "    deQ = gamma*s/n*(1-psi)*(R0/Di*iN + alpha*z_func(t) + h*R0/Di*iQ) - eQ/De + beta*(np.matmul(np.transpose(L(t)), eN/n))\n",
    "    deN = (1-gamma)*s/n*(1-psi)*(R0/Di*iN + alpha*z_func(t) + h*R0/Di*iQ) - eN/De + (1-beta)*(np.matmul(np.transpose(L(t)), eN/n) - eN/n*np.matmul(L(t), np.ones(M)))\n",
    "    diQ = (1-Gamma)*eN/De - iQ/Di + (1-tau)*(np.matmul(np.transpose(L(t)), iN/n) - phi*iN/n*np.matmul(L(t), np.ones(M)))                                                                                  \n",
    "    diN = eQ/De + Gamma*eN/De - iN/Di + tau*(np.matmul(np.transpose(L(t)), iN/n)) \n",
    "    dr = iQ/Di + iN/Di + (np.matmul(np.transpose(L(t)), r/n) - r/n*np.matmul(L(t), np.ones(M)))\n",
    "    dz = np.array([ds, deQ, deN, diQ, diN, dr])\n",
    "    return np.reshape(dz, newshape = (1, 6*M))[0]"
   ]
  },
  {
   "cell_type": "code",
   "execution_count": 41,
   "metadata": {},
   "outputs": [
    {
     "name": "stderr",
     "output_type": "stream",
     "text": [
      "/home/zsteve/anaconda3/lib/python3.7/site-packages/ipykernel_launcher.py:2: RuntimeWarning: overflow encountered in exp\n",
      "  \n"
     ]
    },
    {
     "data": {
      "text/plain": [
       "[<matplotlib.lines.Line2D at 0x7fb74584e668>]"
      ]
     },
     "execution_count": 41,
     "metadata": {},
     "output_type": "execute_result"
    },
    {
     "data": {
      "image/png": "[encoded data removed]",
      "text/plain": [
       "<Figure size 432x288 with 3 Axes>"
      ]
     },
     "metadata": {
      "needs_background": "light"
     },
     "output_type": "display_data"
    }
   ],
   "source": [
    "M = 3\n",
    "c_params = [{''} for i in range(0, M)] # country-specific parameters\n",
    "g_params = {'R0': 2, 'De': 6.5, 'Di': 7, 'alpha': np.zeros(M)} # global model parameters\n",
    "g_params['alpha'][0] = 1\n",
    "g_params['psi'] = np.array([0.1, ]*M)\n",
    "g_params['phi'] = np.array([0.05, ]*M)\n",
    "g_params['h'] = np.array([0.1, ]*M)\n",
    "g_params['gamma'] = np.array([0.5, ]*M)\n",
    "g_params['Gamma'] = np.array([0.5, ]*M)\n",
    "g_params['beta'] = np.array([0.5, ]*M)\n",
    "g_params['tau'] = np.array([0.8, ]*M)\n",
    "\n",
    "s0 = np.array([11.08e6, # Wuhan\n",
    "               1.386e9, # Rest of China\n",
    "               3.08e9]) # Rest of Asia\n",
    "eQ0 = np.zeros(M)\n",
    "eN0 = np.zeros(M)\n",
    "iQ0 = np.zeros(M)\n",
    "iN0 = np.zeros(M)\n",
    "r0 = np.zeros(M)\n",
    "z0 = np.array([s0, eQ0, eN0, iQ0, iN0, r0]) \n",
    "\n",
    "n = 100\n",
    "t = np.linspace(0, 1000, n)\n",
    "# solve ODE\n",
    "\n",
    "S = np.zeros((n, M))\n",
    "EQ = np.zeros((n, M))\n",
    "EN = np.zeros((n, M))\n",
    "IQ = np.zeros((n, M))\n",
    "IN = np.zeros((n, M))\n",
    "R = np.zeros((n, M))\n",
    "\n",
    "S[0] = z0[0, :]\n",
    "EQ[0] = z0[1, :]\n",
    "EN[0] = z0[2, :]\n",
    "IQ[0] = z0[3, :]\n",
    "IN[0] = z0[4, :]\n",
    "R[0] = z0[5, :]\n",
    "    \n",
    "z0 = np.reshape(np.array([s0, eQ0, eN0, iQ0, iN0, r0]), newshape = (1, 6*M))[0] \n",
    "\n",
    "for i in range(1,n):\n",
    "    # span for next time step\n",
    "    tspan = [t[i-1],t[i]]\n",
    "    # solve for next step\n",
    "    z = odeint(model,z0,tspan)[1]\n",
    "    z = np.reshape(z, newshape = (6, M))\n",
    "    \n",
    "    S[i] = z[0, :]\n",
    "    EQ[i] = z[1, :] \n",
    "    EN[i] = z[2, :]\n",
    "    IQ[i] = z[3, :] \n",
    "    IN[i] = z[4, :]\n",
    "    R[i] = z[5, :]\n",
    "\n",
    "    z0 = np.reshape(z, newshape = (1, 6*M))[0]\n",
    "\n",
    "E = EQ + EN\n",
    "\n",
    "    \n",
    "plt.figure()\n",
    "plt.subplot(1, 3, 1)\n",
    "plt.plot(t, S[:, 0])\n",
    "plt.plot(t, I[:, 0])\n",
    "plt.plot(t, E[:, 0]) \n",
    "plt.plot(t, R[:, 0]) \n",
    "\n",
    "plt.subplot(1, 3, 2)\n",
    "plt.plot(t, S[:, 1])\n",
    "plt.plot(t, I[:, 1])\n",
    "plt.plot(t, E[:, 1])\n",
    "plt.plot(t, R[:, 1]) \n",
    "\n",
    "plt.subplot(1, 3, 3)\n",
    "plt.plot(t, S[:, 2])\n",
    "plt.plot(t, I[:, 2])\n",
    "plt.plot(t, E[:, 2])\n",
    "plt.plot(t, R[:, 2]) \n"
   ]
  }
 ],
 "metadata": {
  "kernelspec": {
   "display_name": "Python 3",
   "language": "python",
   "name": "python3"
  },
  "language_info": {
   "codemirror_mode": {
    "name": "ipython",
    "version": 3
   },
   "file_extension": ".py",
   "mimetype": "text/x-python",
   "name": "python",
   "nbconvert_exporter": "python",
   "pygments_lexer": "ipython3",
   "version": "3.7.3"
  }
 },
 "nbformat": 4,
 "nbformat_minor": 4
}
