{
 "cells": [
  {
   "cell_type": "code",
   "execution_count": 80,
   "metadata": {},
   "outputs": [
    {
     "data": {
      "image/png": "[encoded data removed]",
      "text/plain": [
       "<Figure size 432x288 with 1 Axes>"
      ]
     },
     "metadata": {
      "needs_background": "light"
     },
     "output_type": "display_data"
    }
   ],
   "source": [
    "import numpy as np\n",
    "from scipy.integrate import odeint\n",
    "import matplotlib.pyplot as plt\n",
    "\n",
    "# function that returns dz/dt\n",
    "def model(z,t,De,Di):\n",
    "    R0 = 2\n",
    "    N = sum(z)\n",
    "    S = z[0]\n",
    "    E = z[1]\n",
    "    I = z[2]\n",
    "    R = z[3]\n",
    "    dSdt = -(S*I*R0)/(Di*N)\n",
    "    dEdt = S*I*R0/(Di*N)-E/De\n",
    "    dIdt = E/De - I/Di\n",
    "    dRdt = I/Di\n",
    "    dzdt = [dSdt, dEdt, dIdt, dRdt]\n",
    "    return dzdt\n",
    "\n",
    "# R node\n",
    "De = 4\n",
    "Di = 8\n",
    "# initial condition\n",
    "z0 = [100,0,1,0]\n",
    "\n",
    "# number of time points\n",
    "n = 401\n",
    "\n",
    "# time points\n",
    "t = np.linspace(0,500,n)\n",
    "\n",
    "# store solution\n",
    "S = np.empty_like(t)\n",
    "E = np.empty_like(t)\n",
    "I = np.empty_like(t)\n",
    "R = np.empty_like(t)\n",
    "\n",
    "# record initial conditions\n",
    "S[0] = z0[0]\n",
    "E[0] = z0[1]\n",
    "I[0] = z0[2]\n",
    "R[0] = z0[3]\n",
    "\n",
    "# solve ODE\n",
    "for i in range(1,n):\n",
    "    # span for next time step\n",
    "    tspan = [t[i-1],t[i]]\n",
    "    # solve for next step\n",
    "    z = odeint(model,z0,tspan,args=(De,Di))\n",
    "    # store solution for plotting\n",
    "    S[i] = z[1][0]\n",
    "    E[i] = z[1][1]\n",
    "    I[i] = z[1][2]\n",
    "    R[i] = z[1][3]\n",
    "    # next initial condition\n",
    "    z0 = z[1]\n",
    "\n",
    "# plot results\n",
    "plt.plot(t,S,'g:',label='S(t)')\n",
    "plt.plot(t,E,'b-',label='E(t)')\n",
    "plt.plot(t,I,'r--',label='I(t)')\n",
    "plt.ylabel('values')\n",
    "plt.xlabel('time')\n",
    "plt.legend(loc='best')\n",
    "plt.show()"
   ]
  },
  {
   "cell_type": "code",
   "execution_count": 155,
   "metadata": {},
   "outputs": [
    {
     "name": "stderr",
     "output_type": "stream",
     "text": [
      "/home/zsteve/anaconda3/lib/python3.7/site-packages/ipykernel_launcher.py:7: RuntimeWarning: overflow encountered in exp\n",
      "  import sys\n"
     ]
    },
    {
     "data": {
      "text/plain": [
       "[<matplotlib.lines.Line2D at 0x7ff16abffd30>]"
      ]
     },
     "execution_count": 155,
     "metadata": {},
     "output_type": "execute_result"
    },
    {
     "data": {
      "image/png": "[encoded data removed]",
      "text/plain": [
       "<Figure size 432x288 with 3 Axes>"
      ]
     },
     "metadata": {
      "needs_background": "light"
     },
     "output_type": "display_data"
    }
   ],
   "source": [
    "import numpy as np\n",
    "import scipy as sp\n",
    "from scipy.integrate import odeint \n",
    "import matplotlib.pyplot as plt\n",
    "\n",
    "def sigma(t):\n",
    "    return 1/(1 + np.exp(t))\n",
    "\n",
    "travel_cutoff = 10\n",
    "z_func = lambda t: sigma(10*t)\n",
    "L_cutoff_func = lambda t: phi(10*(t-travel_cutoff))\n",
    "\n",
    "def L(t):\n",
    "    L = np.ones((M, M))\n",
    "    L[0, :] = L_cutoff_func(t)\n",
    "    L[:, 0] = L_cutoff_func(t)\n",
    "    return L\n",
    "\n",
    "def model(z_flat, t):\n",
    "    z = np.reshape(z_flat, newshape = (4, M))\n",
    "    s, e, i, r = [z[0, :], z[1, :], z[2, :], z[3, :]]\n",
    "    n = np.sum(z, axis = 0)\n",
    "    R0 = g_params['R0']\n",
    "    De = g_params['De']\n",
    "    Di = g_params['Di']\n",
    "    alpha = g_params['alpha']\n",
    "    \n",
    "    ds = -s/n*(R0/Di*i + alpha*z_func(t)) + (np.matmul(np.transpose(L(t)), s/n) - s/n*np.matmul(L(t), np.ones(M)))\n",
    "    de = s/n*(R0/Di*i + alpha*z_func(t)) - e/De + (np.matmul(np.transpose(L(t)), e/n) - e/n*np.matmul(L(t), np.ones(M)))\n",
    "    di = e/De - i/Di + (np.matmul(np.transpose(L(t)), i/n) - i/n*np.matmul(L(t), np.ones(M)))\n",
    "    dr = i/Di + (np.matmul(np.transpose(L(t)), r/n) - r/n*np.matmul(L(t), np.ones(M)))\n",
    "    dz = np.array([ds, de, di, dr])\n",
    "    return np.reshape(dz, newshape = (1, 4*M))[0]\n",
    " \n",
    "# consider M countries \n",
    "M = 3\n",
    "n0 = 100\n",
    "c_params = [{''} for i in range(0, M)] # country-specific parameters\n",
    "g_params = {'R0': 2, 'De': 4, 'Di': 8, 'alpha': np.zeros(M)} # global model parameters\n",
    "g_params['alpha'][0] = 1\n",
    "# L = np.ones((M, M)) # matrix of travel rates; L(i, j) = rate of travel from country i --> country j\n",
    "\n",
    "s0 = np.array([100, ]*M)\n",
    "e0 = np.zeros(M)\n",
    "i0 = np.zeros(M)\n",
    "r0 = np.zeros(M)\n",
    "z0 = np.array([s0, e0, i0, r0]) # z = [s e i r]\n",
    "\n",
    "n = 100\n",
    "t = np.linspace(0, 200, n)\n",
    "# solve ODE\n",
    "\n",
    "S = np.zeros((n, M))\n",
    "E = np.zeros((n, M))\n",
    "I = np.zeros((n, M))\n",
    "R = np.zeros((n, M))\n",
    "\n",
    "S[0] = z0[0, :]\n",
    "E[0] = z0[1, :]\n",
    "I[0] = z0[2, :]\n",
    "R[0] = z0[3, :]\n",
    "    \n",
    "z0 = np.reshape(np.array([s0, e0, i0, r0]), newshape = (1, 4*M))[0] # z = [s e i r]\n",
    "\n",
    "for i in range(1,n):\n",
    "    # span for next time step\n",
    "    tspan = [t[i-1],t[i]]\n",
    "    # solve for next step\n",
    "    z = odeint(model,z0,tspan)[1]\n",
    "    z = np.reshape(z, newshape = (4, M))\n",
    "    \n",
    "    S[i] = z[0, :]\n",
    "    E[i] = z[1, :]\n",
    "    I[i] = z[2, :]\n",
    "    R[i] = z[3, :]\n",
    "\n",
    "    z0 = np.reshape(z, newshape = (1, 4*M))[0]\n",
    "    \n",
    "plt.figure()\n",
    "plt.subplot(1, 3, 1)\n",
    "plt.plot(t, S[:, 0])\n",
    "plt.plot(t, I[:, 0])\n",
    "plt.plot(t, E[:, 0]) \n",
    "\n",
    "plt.subplot(1, 3, 2)\n",
    "plt.plot(t, S[:, 1])\n",
    "plt.plot(t, I[:, 1])\n",
    "plt.plot(t, E[:, 1])\n",
    "\n",
    "plt.subplot(1, 3, 3)\n",
    "plt.plot(t, S[:, 2])\n",
    "plt.plot(t, I[:, 2])\n",
    "plt.plot(t, E[:, 2])"
   ]
  },
  {
   "cell_type": "code",
   "execution_count": 152,
   "metadata": {},
   "outputs": [
    {
     "data": {
      "text/plain": [
       "<function __main__.L(t)>"
      ]
     },
     "execution_count": 152,
     "metadata": {},
     "output_type": "execute_result"
    }
   ],
   "source": [
    "L"
   ]
  },
  {
   "cell_type": "code",
   "execution_count": 40,
   "metadata": {},
   "outputs": [
    {
     "data": {
      "text/plain": [
       "array([300., 300., 300.])"
      ]
     },
     "execution_count": 40,
     "metadata": {},
     "output_type": "execute_result"
    }
   ],
   "source": []
  },
  {
   "cell_type": "code",
   "execution_count": null,
   "metadata": {},
   "outputs": [],
   "source": []
  }
 ],
 "metadata": {
  "kernelspec": {
   "display_name": "Python 3",
   "language": "python",
   "name": "python3"
  },
  "language_info": {
   "codemirror_mode": {
    "name": "ipython",
    "version": 3
   },
   "file_extension": ".py",
   "mimetype": "text/x-python",
   "name": "python",
   "nbconvert_exporter": "python",
   "pygments_lexer": "ipython3",
   "version": "3.7.3"
  }
 },
 "nbformat": 4,
 "nbformat_minor": 4
}
